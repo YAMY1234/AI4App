{
 "cells": [
  {
   "cell_type": "code",
   "execution_count": 50,
   "metadata": {},
   "outputs": [],
   "source": [
    "phrases = ['written work', 'portfolio']\n",
    "\n",
    "with open('cache.txt', 'r', encoding='utf-8') as f:\n",
    "    lines = f.readlines()\n",
    "\n",
    "remaining_lines = []\n",
    "for line in lines:\n",
    "    line_contains_phrase = False\n",
    "    for phrase in phrases:\n",
    "        if phrase in line.lower():\n",
    "            line_contains_phrase = True\n",
    "            break\n",
    "    if not line_contains_phrase:\n",
    "        remaining_lines.append(line)\n",
    "\n",
    "with open('remaining.txt', 'w', encoding='utf-8') as f:\n",
    "    for line in remaining_lines:\n",
    "        f.write(line)"
   ]
  }
 ],
 "metadata": {
  "kernelspec": {
   "display_name": "web",
   "language": "python",
   "name": "python3"
  },
  "language_info": {
   "codemirror_mode": {
    "name": "ipython",
    "version": 3
   },
   "file_extension": ".py",
   "mimetype": "text/x-python",
   "name": "python",
   "nbconvert_exporter": "python",
   "pygments_lexer": "ipython3",
   "version": "3.6.13"
  },
  "orig_nbformat": 4
 },
 "nbformat": 4,
 "nbformat_minor": 2
}
